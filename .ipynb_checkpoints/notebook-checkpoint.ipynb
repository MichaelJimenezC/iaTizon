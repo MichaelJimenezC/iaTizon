{
 "cells": [
  {
   "cell_type": "markdown",
   "id": "e4096a0a-78de-4d1d-8ad2-19f98013793f",
   "metadata": {},
   "source": [
    "Primero instala cuda"
   ]
  },
  {
   "cell_type": "code",
   "execution_count": null,
   "id": "c3a27d82-c8ef-43b3-bdac-17db26115e7a",
   "metadata": {},
   "outputs": [],
   "source": [
    "https://developer.nvidia.com/cuda-downloads?target_os=Windows"
   ]
  },
  {
   "cell_type": "markdown",
   "id": "e57f08cd-7306-49cc-9ce4-e0993e629fbb",
   "metadata": {},
   "source": [
    "Luego instala pytorch con cuda"
   ]
  },
  {
   "cell_type": "code",
   "execution_count": null,
   "id": "5bc39066-0f71-4a7a-8125-6346f0d76c3d",
   "metadata": {},
   "outputs": [],
   "source": [
    "pip3 install torch torchvision --index-url https://download.pytorch.org/whl/cu126\n"
   ]
  }
 ],
 "metadata": {
  "kernelspec": {
   "display_name": "Python 3 (ipykernel)",
   "language": "python",
   "name": "python3"
  },
  "language_info": {
   "codemirror_mode": {
    "name": "ipython",
    "version": 3
   },
   "file_extension": ".py",
   "mimetype": "text/x-python",
   "name": "python",
   "nbconvert_exporter": "python",
   "pygments_lexer": "ipython3",
   "version": "3.13.5"
  }
 },
 "nbformat": 4,
 "nbformat_minor": 5
}
